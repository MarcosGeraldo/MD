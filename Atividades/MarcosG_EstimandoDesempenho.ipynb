{
  "nbformat": 4,
  "nbformat_minor": 0,
  "metadata": {
    "colab": {
      "provenance": []
    },
    "kernelspec": {
      "name": "python3",
      "display_name": "Python 3"
    },
    "language_info": {
      "name": "python"
    }
  },
  "cells": [
    {
      "cell_type": "markdown",
      "source": [
        "## Marcos Geraldo Braga Emiliano\n",
        "## 19.1.4012\n",
        "# Estimando o desempenho de classificadores"
      ],
      "metadata": {
        "id": "D2lv0muERtV4"
      }
    },
    {
      "cell_type": "markdown",
      "source": [
        "## Importaçoes:"
      ],
      "metadata": {
        "id": "HN8PxGknRtio"
      }
    },
    {
      "cell_type": "code",
      "execution_count": 93,
      "metadata": {
        "colab": {
          "base_uri": "https://localhost:8080/"
        },
        "id": "24XKRr5bK_n4",
        "outputId": "885629c1-46c3-4180-c9e0-60cd9294d5f2"
      },
      "outputs": [
        {
          "output_type": "stream",
          "name": "stdout",
          "text": [
            "Drive already mounted at /content/drive; to attempt to forcibly remount, call drive.mount(\"/content/drive\", force_remount=True).\n"
          ]
        }
      ],
      "source": [
        "import numpy as np\n",
        "import pandas as pd\n",
        "import matplotlib.pyplot as plt\n",
        "import seaborn as sns\n",
        "%matplotlib inline\n",
        "from google.colab import drive\n",
        "drive.mount('/content/drive')\n",
        "from sklearn.svm import SVC\n"
      ]
    },
    {
      "cell_type": "code",
      "source": [
        "train_df= pd.read_csv('/content/drive/My Drive/kaggle-titanic/train.csv')"
      ],
      "metadata": {
        "id": "4GFm8MH1LLJp"
      },
      "execution_count": 94,
      "outputs": []
    },
    {
      "cell_type": "markdown",
      "source": [
        "### Pequenos Tratamentos:"
      ],
      "metadata": {
        "id": "QGkESdqsR7g0"
      }
    },
    {
      "cell_type": "code",
      "source": [
        "train_df.isnull().sum()"
      ],
      "metadata": {
        "colab": {
          "base_uri": "https://localhost:8080/"
        },
        "id": "k8_Dg2naLzDL",
        "outputId": "1580b88c-2685-4fec-8081-6618cedef395"
      },
      "execution_count": 95,
      "outputs": [
        {
          "output_type": "execute_result",
          "data": {
            "text/plain": [
              "PassengerId      0\n",
              "Survived         0\n",
              "Pclass           0\n",
              "Name             0\n",
              "Sex              0\n",
              "Age            177\n",
              "SibSp            0\n",
              "Parch            0\n",
              "Ticket           0\n",
              "Fare             0\n",
              "Cabin          687\n",
              "Embarked         2\n",
              "dtype: int64"
            ]
          },
          "metadata": {},
          "execution_count": 95
        }
      ]
    },
    {
      "cell_type": "code",
      "source": [
        "train_df[\"Age\"].fillna(train_df[\"Age\"].mean(), inplace = True)"
      ],
      "metadata": {
        "id": "xAPV68EhL0A9"
      },
      "execution_count": 96,
      "outputs": []
    },
    {
      "cell_type": "code",
      "source": [
        "train_df['Sex']=train_df['Sex'].replace('male', 0)\n",
        "train_df['Sex']=train_df['Sex'].replace('female', 1)"
      ],
      "metadata": {
        "id": "_RUl1Mn9L0Ny"
      },
      "execution_count": 97,
      "outputs": []
    },
    {
      "cell_type": "code",
      "source": [
        "train_df.drop(['Name', 'PassengerId', 'Fare', 'Ticket','Embarked', 'Cabin'], axis = 1, inplace = True)"
      ],
      "metadata": {
        "id": "D5Fin7gJL0dy"
      },
      "execution_count": 98,
      "outputs": []
    },
    {
      "cell_type": "code",
      "source": [
        "missing=train_df.isnull().sum().sort_values(ascending=False)\n",
        "missing=missing.drop(missing[missing==0].index)\n",
        "missing"
      ],
      "metadata": {
        "colab": {
          "base_uri": "https://localhost:8080/"
        },
        "id": "7xmSopaRL_gf",
        "outputId": "9ede9ef8-4b89-4f14-f400-dde37b30f851"
      },
      "execution_count": 99,
      "outputs": [
        {
          "output_type": "execute_result",
          "data": {
            "text/plain": [
              "Series([], dtype: int64)"
            ]
          },
          "metadata": {},
          "execution_count": 99
        }
      ]
    },
    {
      "cell_type": "code",
      "source": [
        "X= train_df.drop('Survived', axis=1)\n",
        "y= train_df['Survived']"
      ],
      "metadata": {
        "id": "WLoEwNSkMAoN"
      },
      "execution_count": 100,
      "outputs": []
    },
    {
      "cell_type": "markdown",
      "source": [
        "### Criando as 10 Folds"
      ],
      "metadata": {
        "id": "Fp_vX2I7R_zr"
      }
    },
    {
      "cell_type": "code",
      "source": [
        "from sklearn.model_selection import KFold, StratifiedKFold, cross_val_score\n",
        "kf =KFold(n_splits=10, shuffle=True, random_state=42)\n",
        "\n",
        "cnt = 1\n",
        "# split()  method generate indices to split data into training and test set.\n",
        "for train_index, test_index in kf.split(X, y):\n",
        "    print(f'Fold:{cnt}, Train set: {len(train_index)}, Test set:{len(test_index)}')\n",
        "    cnt += 1"
      ],
      "metadata": {
        "colab": {
          "base_uri": "https://localhost:8080/"
        },
        "id": "2Iaq7AsnObwp",
        "outputId": "0623c498-d1eb-4865-be44-bb745555bafc"
      },
      "execution_count": 101,
      "outputs": [
        {
          "output_type": "stream",
          "name": "stdout",
          "text": [
            "Fold:1, Train set: 801, Test set:90\n",
            "Fold:2, Train set: 802, Test set:89\n",
            "Fold:3, Train set: 802, Test set:89\n",
            "Fold:4, Train set: 802, Test set:89\n",
            "Fold:5, Train set: 802, Test set:89\n",
            "Fold:6, Train set: 802, Test set:89\n",
            "Fold:7, Train set: 802, Test set:89\n",
            "Fold:8, Train set: 802, Test set:89\n",
            "Fold:9, Train set: 802, Test set:89\n",
            "Fold:10, Train set: 802, Test set:89\n"
          ]
        }
      ]
    },
    {
      "cell_type": "markdown",
      "source": [
        "### Definindo função RMSE"
      ],
      "metadata": {
        "id": "B7OZyDzdSJZF"
      }
    },
    {
      "cell_type": "code",
      "source": [
        "def rmse(score):\n",
        "    rmse = np.sqrt(-score)\n",
        "    print(f'rmse= {\"{:.2f}\".format(rmse)}')"
      ],
      "metadata": {
        "id": "hjctNBvGPPvx"
      },
      "execution_count": 102,
      "outputs": []
    },
    {
      "cell_type": "markdown",
      "source": [
        "### Aplicando a SVM com kernel rbf para as folds"
      ],
      "metadata": {
        "id": "qEsIoNMnSTZI"
      }
    },
    {
      "cell_type": "code",
      "source": [
        "score = cross_val_score(SVC(kernel='rbf'), X, y, cv= kf, scoring=\"neg_mean_squared_error\")\n",
        "print(f'Scores for each fold: {score}')\n",
        "rmse(score.mean())"
      ],
      "metadata": {
        "colab": {
          "base_uri": "https://localhost:8080/"
        },
        "id": "I8eI14jAPC6r",
        "outputId": "9e32c1d2-fe08-4e67-c14b-eb78ac39ddb8"
      },
      "execution_count": 103,
      "outputs": [
        {
          "output_type": "stream",
          "name": "stdout",
          "text": [
            "Scores for each fold: [-0.38888889 -0.39325843 -0.41573034 -0.28089888 -0.35955056 -0.30337079\n",
            " -0.39325843 -0.33707865 -0.46067416 -0.26966292]\n",
            "rmse= 0.60\n"
          ]
        }
      ]
    },
    {
      "cell_type": "markdown",
      "source": [
        "### Media:"
      ],
      "metadata": {
        "id": "9RwesIA-Rk1T"
      }
    },
    {
      "cell_type": "code",
      "source": [
        "score.mean()"
      ],
      "metadata": {
        "colab": {
          "base_uri": "https://localhost:8080/"
        },
        "id": "YOE826wQQuJa",
        "outputId": "e7623a19-f08e-4062-c5e8-9380df49efd8"
      },
      "execution_count": 104,
      "outputs": [
        {
          "output_type": "execute_result",
          "data": {
            "text/plain": [
              "-0.36023720349563054"
            ]
          },
          "metadata": {},
          "execution_count": 104
        }
      ]
    },
    {
      "cell_type": "markdown",
      "source": [
        "### Desvio Padrão:"
      ],
      "metadata": {
        "id": "47L35KVRRpKG"
      }
    },
    {
      "cell_type": "code",
      "source": [
        "score.std()"
      ],
      "metadata": {
        "colab": {
          "base_uri": "https://localhost:8080/"
        },
        "id": "O5bTMETVRIDI",
        "outputId": "946ce9a4-a1fd-412c-b0c4-4ef420c86798"
      },
      "execution_count": 105,
      "outputs": [
        {
          "output_type": "execute_result",
          "data": {
            "text/plain": [
              "0.058683593235936644"
            ]
          },
          "metadata": {},
          "execution_count": 105
        }
      ]
    },
    {
      "cell_type": "markdown",
      "source": [
        "### Separando os dados a serem utilizados no Grid Search"
      ],
      "metadata": {
        "id": "g_iEOjPuUBOr"
      }
    },
    {
      "cell_type": "code",
      "source": [
        "from sklearn.model_selection import train_test_split\n",
        "\n",
        "X= train_df.drop('Survived', axis=1)\n",
        "y= train_df['Survived']\n",
        "\n",
        "X_train, X_test, y_train, y_test = train_test_split(X, y, test_size=0.3, random_state=101)"
      ],
      "metadata": {
        "id": "g_fo6FuPTezu"
      },
      "execution_count": 106,
      "outputs": []
    },
    {
      "cell_type": "markdown",
      "source": [
        "### Criando um modelo grid que utiliza uma SVM"
      ],
      "metadata": {
        "id": "SWtWhvazUH_4"
      }
    },
    {
      "cell_type": "code",
      "source": [
        "from sklearn.model_selection import GridSearchCV\n",
        "\n",
        "svm = SVC()\n",
        "grid_parameters = {'C':[0.01,0.1,1, 10, 100, 1000],'gamma':[1, 0.1, 0.01, 0.001, 0.0001]}\n",
        "grid_search = GridSearchCV(svm,grid_parameters, cv=5)"
      ],
      "metadata": {
        "id": "M5ZatqICS2p1"
      },
      "execution_count": 107,
      "outputs": []
    },
    {
      "cell_type": "code",
      "source": [
        "grid_search.fit(X_train, y_train)"
      ],
      "metadata": {
        "colab": {
          "base_uri": "https://localhost:8080/"
        },
        "id": "lhHtoEV2TYPP",
        "outputId": "b6568bad-9083-4546-a29f-f0bb750b29f5"
      },
      "execution_count": 108,
      "outputs": [
        {
          "output_type": "execute_result",
          "data": {
            "text/plain": [
              "GridSearchCV(cv=5, estimator=SVC(),\n",
              "             param_grid={'C': [0.01, 0.1, 1, 10, 100, 1000],\n",
              "                         'gamma': [1, 0.1, 0.01, 0.001, 0.0001]})"
            ]
          },
          "metadata": {},
          "execution_count": 108
        }
      ]
    },
    {
      "cell_type": "markdown",
      "source": [
        "### Buscando o melhor resultado para o \"estimador\" e os parametros"
      ],
      "metadata": {
        "id": "mY7fCwPZUQxn"
      }
    },
    {
      "cell_type": "code",
      "source": [
        "grid_search.best_estimator_"
      ],
      "metadata": {
        "colab": {
          "base_uri": "https://localhost:8080/"
        },
        "id": "n3_sFvqzThzh",
        "outputId": "420c3a36-f6a6-4b4d-a02c-f5768fde6d66"
      },
      "execution_count": 109,
      "outputs": [
        {
          "output_type": "execute_result",
          "data": {
            "text/plain": [
              "SVC(C=1000, gamma=0.001)"
            ]
          },
          "metadata": {},
          "execution_count": 109
        }
      ]
    },
    {
      "cell_type": "code",
      "source": [
        "grid_search.best_params_"
      ],
      "metadata": {
        "colab": {
          "base_uri": "https://localhost:8080/"
        },
        "id": "G2UsfVqZTkK3",
        "outputId": "ac49cf2a-9563-47d0-97cd-030654983640"
      },
      "execution_count": 110,
      "outputs": [
        {
          "output_type": "execute_result",
          "data": {
            "text/plain": [
              "{'C': 1000, 'gamma': 0.001}"
            ]
          },
          "metadata": {},
          "execution_count": 110
        }
      ]
    },
    {
      "cell_type": "markdown",
      "source": [
        "### Inferindo os dados de Validação"
      ],
      "metadata": {
        "id": "arBSMrgpUcce"
      }
    },
    {
      "cell_type": "code",
      "source": [
        "y_pred_grid= grid_search.predict(X_test)"
      ],
      "metadata": {
        "id": "dRnsDcOGTnHP"
      },
      "execution_count": 111,
      "outputs": []
    },
    {
      "cell_type": "markdown",
      "source": [
        "### Matriz Confusão dos resultados obtidos"
      ],
      "metadata": {
        "id": "_Gd06O9MUgS3"
      }
    },
    {
      "cell_type": "code",
      "source": [
        "from sklearn.metrics import classification_report, confusion_matrix"
      ],
      "metadata": {
        "id": "nwI7Q2rPTwso"
      },
      "execution_count": 112,
      "outputs": []
    },
    {
      "cell_type": "code",
      "source": [
        "confusion_matrix(y_test, y_pred_grid)"
      ],
      "metadata": {
        "colab": {
          "base_uri": "https://localhost:8080/"
        },
        "id": "8ykMyDmFTod8",
        "outputId": "cf900e34-eaf1-474b-87b7-38fe32fca49f"
      },
      "execution_count": 113,
      "outputs": [
        {
          "output_type": "execute_result",
          "data": {
            "text/plain": [
              "array([[137,  17],\n",
              "       [ 35,  79]])"
            ]
          },
          "metadata": {},
          "execution_count": 113
        }
      ]
    },
    {
      "cell_type": "code",
      "source": [
        "print(classification_report(y_test, y_pred_grid))"
      ],
      "metadata": {
        "colab": {
          "base_uri": "https://localhost:8080/"
        },
        "id": "7V9d0rleTqsA",
        "outputId": "1c930559-dd3b-4ec4-f7be-c6d1970515e6"
      },
      "execution_count": 114,
      "outputs": [
        {
          "output_type": "stream",
          "name": "stdout",
          "text": [
            "              precision    recall  f1-score   support\n",
            "\n",
            "           0       0.80      0.89      0.84       154\n",
            "           1       0.82      0.69      0.75       114\n",
            "\n",
            "    accuracy                           0.81       268\n",
            "   macro avg       0.81      0.79      0.80       268\n",
            "weighted avg       0.81      0.81      0.80       268\n",
            "\n"
          ]
        }
      ]
    }
  ]
}