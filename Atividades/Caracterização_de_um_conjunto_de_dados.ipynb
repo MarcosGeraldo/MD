{
  "nbformat": 4,
  "nbformat_minor": 0,
  "metadata": {
    "colab": {
      "name": "Caracterização de um conjunto de dados.ipynb",
      "provenance": []
    },
    "kernelspec": {
      "name": "python3",
      "display_name": "Python 3"
    },
    "language_info": {
      "name": "python"
    }
  },
  "cells": [
    {
      "cell_type": "markdown",
      "source": [
        "Marcos Geraldo Braga Emiliano\n",
        "\n",
        "19.1.4012\n",
        "\n",
        "Caracterização de um conjunto de dados\n"
      ],
      "metadata": {
        "id": "L11YDg9r0aYY"
      }
    },
    {
      "cell_type": "markdown",
      "source": [
        "A) Identifique os tipos de atributos: \n",
        "\n",
        "(contínuos , discretos, binário (simétricos ou assimétricos), categóricos (nominais ou ordinais)).\n",
        "\n",
        "1.PassengerId -> Discreto\n",
        "\n",
        "2.Pclass -> Discreto \n",
        "\n",
        "3.Name -> Categórico Nominal\n",
        "\n",
        "4.Sex -> Binário Simetrico\n",
        "\n",
        "5.Age -> Discreto\n",
        "\n",
        "6.SibSp -> Discreto\n",
        "\n",
        "7.Parch -> Discreto\n",
        "\n",
        "8.Ticket -> Categórico Nominal\n",
        "\n",
        "9.Fare -> Contínuo\n",
        "\n",
        "10.Cabin -> Categórico Nominal\n",
        "\n",
        "11.Embarked -> Categórico Nominal\n"
      ],
      "metadata": {
        "id": "peyTtHj_2Auv"
      }
    },
    {
      "cell_type": "code",
      "execution_count": 1,
      "metadata": {
        "colab": {
          "base_uri": "https://localhost:8080/"
        },
        "id": "_lVtYM2V0ZVR",
        "outputId": "29915417-e163-4607-fa56-4367b5aa2f21"
      },
      "outputs": [
        {
          "output_type": "stream",
          "name": "stdout",
          "text": [
            "Looking in indexes: https://pypi.org/simple, https://us-python.pkg.dev/colab-wheels/public/simple/\n",
            "Requirement already satisfied: kaggle in /usr/local/lib/python3.7/dist-packages (1.5.12)\n",
            "Requirement already satisfied: python-slugify in /usr/local/lib/python3.7/dist-packages (from kaggle) (6.1.2)\n",
            "Requirement already satisfied: tqdm in /usr/local/lib/python3.7/dist-packages (from kaggle) (4.64.0)\n",
            "Requirement already satisfied: urllib3 in /usr/local/lib/python3.7/dist-packages (from kaggle) (1.24.3)\n",
            "Requirement already satisfied: certifi in /usr/local/lib/python3.7/dist-packages (from kaggle) (2022.6.15)\n",
            "Requirement already satisfied: python-dateutil in /usr/local/lib/python3.7/dist-packages (from kaggle) (2.8.2)\n",
            "Requirement already satisfied: six>=1.10 in /usr/local/lib/python3.7/dist-packages (from kaggle) (1.15.0)\n",
            "Requirement already satisfied: requests in /usr/local/lib/python3.7/dist-packages (from kaggle) (2.23.0)\n",
            "Requirement already satisfied: text-unidecode>=1.3 in /usr/local/lib/python3.7/dist-packages (from python-slugify->kaggle) (1.3)\n",
            "Requirement already satisfied: idna<3,>=2.5 in /usr/local/lib/python3.7/dist-packages (from requests->kaggle) (2.10)\n",
            "Requirement already satisfied: chardet<4,>=3.0.2 in /usr/local/lib/python3.7/dist-packages (from requests->kaggle) (3.0.4)\n"
          ]
        }
      ],
      "source": [
        "!pip install kaggle"
      ]
    },
    {
      "cell_type": "code",
      "source": [
        "from google.colab import drive\n",
        "drive.mount('/content/drive')\n",
        "import pandas as pd\n",
        "import numpy as np\n",
        "import math\n",
        "\n",
        "%matplotlib inline"
      ],
      "metadata": {
        "colab": {
          "base_uri": "https://localhost:8080/"
        },
        "id": "WOkwDwm_7YDJ",
        "outputId": "1a426db6-9de5-4b58-99a9-c545cf3980aa"
      },
      "execution_count": 27,
      "outputs": [
        {
          "output_type": "stream",
          "name": "stdout",
          "text": [
            "Drive already mounted at /content/drive; to attempt to forcibly remount, call drive.mount(\"/content/drive\", force_remount=True).\n"
          ]
        }
      ]
    },
    {
      "cell_type": "code",
      "source": [
        "train_data = pd.read_csv('/content/drive/My Drive/kaggle-titanic/train.csv')\n",
        "test_data = pd.read_csv('/content/drive/My Drive/kaggle-titanic/test.csv')\n",
        "p_id = test_data['PassengerId']\n",
        "data = pd.concat([train_data, test_data])\n",
        "data.shape"
      ],
      "metadata": {
        "colab": {
          "base_uri": "https://localhost:8080/"
        },
        "id": "thRnFo8D51OF",
        "outputId": "399e0932-5b24-465a-859d-42b8f507e1b5"
      },
      "execution_count": 88,
      "outputs": [
        {
          "output_type": "execute_result",
          "data": {
            "text/plain": [
              "(1309, 12)"
            ]
          },
          "metadata": {},
          "execution_count": 88
        }
      ]
    },
    {
      "cell_type": "markdown",
      "source": [
        "## B) Atributos Numericos"
      ],
      "metadata": {
        "id": "tqJ0ZpVRNTWH"
      }
    },
    {
      "cell_type": "code",
      "source": [
        "#train_data['PassengerId'][i]\n",
        "\n",
        "min = np.min(data['PassengerId'])\n",
        "max = np.max(data['PassengerId'])\n",
        "media = sum(data['PassengerId'])/1309\n",
        "desv= math.sqrt(np.sum((data['PassengerId']-media)**2)/1309)\n",
        "inter=max-min\n",
        "out=[]\n",
        "\n",
        "print(\"PassengerId:\")\n",
        "print(\"Minimo: \",min)\n",
        "print(\"Maximo: \",max)\n",
        "print(\"Media: \",media)\n",
        "print(\"Desvio Padrao: \", desv)\n",
        "print(\"Intervalo: \", inter)\n",
        "print(\"Valores Aberrantes: \", out)"
      ],
      "metadata": {
        "colab": {
          "base_uri": "https://localhost:8080/"
        },
        "id": "4i1jhp1u8BYv",
        "outputId": "57255651-18bb-41c6-d676-1c5cce72a37c"
      },
      "execution_count": 46,
      "outputs": [
        {
          "output_type": "stream",
          "name": "stdout",
          "text": [
            "PassengerId:\n",
            "Minimo:  1\n",
            "Maximo:  1309\n",
            "Media:  962.283950617284\n",
            "Desvio Padrao:  590.3378163508897\n",
            "Intervalo:  1308\n",
            "Valores Aberrantes:  []\n"
          ]
        }
      ]
    },
    {
      "cell_type": "code",
      "source": [
        "\n",
        "min = np.min(data['Pclass'])\n",
        "max = np.max(data['Pclass'])\n",
        "media = sum(data['Pclass'])/1309\n",
        "desv= math.sqrt(np.sum((data['Pclass']-media)**2)/1309)\n",
        "inter=max-min\n",
        "out=[]\n",
        "\n",
        "print(\"Pclass:\")\n",
        "print(\"Minimo: \",min)\n",
        "print(\"Maximo: \",max)\n",
        "print(\"Media: \",media)\n",
        "print(\"Desvio Padrao: \", desv)\n",
        "print(\"Intervalo: \", inter)\n",
        "print(\"Valores Aberrantes: \", out)"
      ],
      "metadata": {
        "colab": {
          "base_uri": "https://localhost:8080/"
        },
        "outputId": "3a5555f1-e8df-418b-9a2d-23d907c65ae1",
        "id": "53Tv4XmUEBpE"
      },
      "execution_count": 33,
      "outputs": [
        {
          "output_type": "stream",
          "name": "stdout",
          "text": [
            "Pclass:\n",
            "Minimo:  1\n",
            "Maximo:  3\n",
            "Media:  2.308641975308642\n",
            "Desvio Padrao:  0.8356019334795166\n",
            "Intervalo:  2\n",
            "Valores Aberrantes:  []\n"
          ]
        }
      ]
    },
    {
      "cell_type": "code",
      "source": [
        "#train_data['PassengerId'][i]\n",
        "\n",
        "min = np.min(data['Age'])\n",
        "max = np.max(data['Age'])\n",
        "media = sum(data['Age'])/1309\n",
        "desv= math.sqrt(np.sum((data['Age']-media)**2)/1309)\n",
        "inter=max-min\n",
        "out=[]\n",
        "\n",
        "print(\"Age:\")\n",
        "print(\"Minimo: \",min)\n",
        "print(\"Maximo: \",max)\n",
        "print(\"Media: \",media)\n",
        "print(\"Desvio Padrao: \", desv)\n",
        "print(\"Intervalo: \", inter)\n",
        "print(\"Valores Aberrantes: \", out)"
      ],
      "metadata": {
        "colab": {
          "base_uri": "https://localhost:8080/"
        },
        "outputId": "b0782107-1bc3-4624-b2fd-7e85606cdfc7",
        "id": "TLWDGYB-D7p0"
      },
      "execution_count": 35,
      "outputs": [
        {
          "output_type": "stream",
          "name": "stdout",
          "text": [
            "Age:\n",
            "Minimo:  0.42\n",
            "Maximo:  80.0\n",
            "Media:  nan\n",
            "Desvio Padrao:  0.0\n",
            "Intervalo:  79.58\n",
            "Valores Aberrantes:  []\n"
          ]
        }
      ]
    },
    {
      "cell_type": "code",
      "source": [
        "#train_data['PassengerId'][i]\n",
        "\n",
        "min = np.min(data['SibSp'])\n",
        "max = np.max(data['SibSp'])\n",
        "media = sum(data['SibSp'])/1309\n",
        "desv= math.sqrt(np.sum((data['SibSp']-media)**2)/1309)\n",
        "inter=max-min\n",
        "out=[]\n",
        "\n",
        "print(\"SibSp:\")\n",
        "print(\"Minimo: \",min)\n",
        "print(\"Maximo: \",max)\n",
        "print(\"Media: \",media)\n",
        "print(\"Desvio Padrao: \", desv)\n",
        "print(\"Intervalo: \", inter)\n",
        "print(\"Valores Aberrantes: \", out)"
      ],
      "metadata": {
        "colab": {
          "base_uri": "https://localhost:8080/"
        },
        "outputId": "bd022fde-34e7-45d1-b2b8-db6e026c9842",
        "id": "NpXgFS0qEtGx"
      },
      "execution_count": 39,
      "outputs": [
        {
          "output_type": "stream",
          "name": "stdout",
          "text": [
            "SibSp:\n",
            "Minimo:  0\n",
            "Maximo:  8\n",
            "Media:  0.5230078563411896\n",
            "Desvio Padrao:  1.1021244350892878\n",
            "Intervalo:  8\n",
            "Valores Aberrantes:  []\n"
          ]
        }
      ]
    },
    {
      "cell_type": "code",
      "source": [
        "#train_data['PassengerId'][i]\n",
        "\n",
        "min = np.min(data['Parch'])\n",
        "max = np.max(data['Parch'])\n",
        "media = sum(data['Parch'])/1309\n",
        "desv= math.sqrt(np.sum((data['Parch']-media)**2)/1309)\n",
        "inter=max-min\n",
        "out=[]\n",
        "\n",
        "print(\"Parch:\")\n",
        "print(\"Minimo: \",min)\n",
        "print(\"Maximo: \",max)\n",
        "print(\"Media: \",media)\n",
        "print(\"Desvio Padrao: \", desv)\n",
        "print(\"Intervalo: \", inter)\n",
        "print(\"Valores Aberrantes: \", out)"
      ],
      "metadata": {
        "colab": {
          "base_uri": "https://localhost:8080/"
        },
        "outputId": "8de17c9e-ced4-43f7-82ad-56acb99f8597",
        "id": "AKDP1pSDEsyH"
      },
      "execution_count": 41,
      "outputs": [
        {
          "output_type": "stream",
          "name": "stdout",
          "text": [
            "Parch:\n",
            "Minimo:  0\n",
            "Maximo:  6\n",
            "Media:  0.38159371492704824\n",
            "Desvio Padrao:  0.8056047612452208\n",
            "Intervalo:  6\n",
            "Valores Aberrantes:  []\n"
          ]
        }
      ]
    },
    {
      "cell_type": "code",
      "source": [
        "#train_data['PassengerId'][i]\n",
        "\n",
        "min = np.min(data['Fare'])\n",
        "max = np.max(data['Fare'])\n",
        "media = sum(data['Fare'])/1309\n",
        "desv= math.sqrt(np.sum((data['Fare']-media)**2)/1309)\n",
        "inter=max-min\n",
        "out=[]\n",
        "\n",
        "print(\"Fare:\")\n",
        "print(\"Minimo: \",min)\n",
        "print(\"Maximo: \",max)\n",
        "print(\"Media: \",media)\n",
        "print(\"Desvio Padrao: \", desv)\n",
        "print(\"Intervalo: \", inter)\n",
        "print(\"Valores Aberrantes: \", out)"
      ],
      "metadata": {
        "colab": {
          "base_uri": "https://localhost:8080/"
        },
        "outputId": "b70feed5-2ed8-493a-bad6-8c592ee28ea5",
        "id": "VQ5Vyb-iD69c"
      },
      "execution_count": 37,
      "outputs": [
        {
          "output_type": "stream",
          "name": "stdout",
          "text": [
            "Fare:\n",
            "Minimo:  0.0\n",
            "Maximo:  512.3292\n",
            "Media:  32.2042079685746\n",
            "Desvio Padrao:  49.66553444477411\n",
            "Intervalo:  512.3292\n",
            "Valores Aberrantes:  []\n"
          ]
        }
      ]
    },
    {
      "cell_type": "markdown",
      "source": [
        "## C)Atributos binários, nominais e ordinais"
      ],
      "metadata": {
        "id": "d06oL8VWNaEw"
      }
    },
    {
      "cell_type": "code",
      "source": [
        "print(\"Name: \")\n",
        "print(data['Name'])"
      ],
      "metadata": {
        "colab": {
          "base_uri": "https://localhost:8080/"
        },
        "id": "y-MSx_ObFUvT",
        "outputId": "b3fa62e8-c08f-42f7-fa64-97924978cdae"
      },
      "execution_count": 43,
      "outputs": [
        {
          "output_type": "stream",
          "name": "stdout",
          "text": [
            "Name: \n",
            "0                                Braund, Mr. Owen Harris\n",
            "1      Cumings, Mrs. John Bradley (Florence Briggs Th...\n",
            "2                                 Heikkinen, Miss. Laina\n",
            "3           Futrelle, Mrs. Jacques Heath (Lily May Peel)\n",
            "4                               Allen, Mr. William Henry\n",
            "                             ...                        \n",
            "886                                Montvila, Rev. Juozas\n",
            "887                         Graham, Miss. Margaret Edith\n",
            "888             Johnston, Miss. Catherine Helen \"Carrie\"\n",
            "889                                Behr, Mr. Karl Howell\n",
            "890                                  Dooley, Mr. Patrick\n",
            "Name: Name, Length: 891, dtype: object\n"
          ]
        }
      ]
    },
    {
      "cell_type": "code",
      "source": [
        "print(\"Sex: Female || Male\")\n",
        "#print(data['Sex'][30])\n",
        "\n",
        "female=0\n",
        "male=0\n",
        "for i in range(891):\n",
        "  if(((train_data['Sex'][i]) == 'female')):\n",
        "    female += 1\n",
        "  else:\n",
        "   male += 1\n",
        "\n",
        "print(\"Female =\",female/891)\n",
        "print(\"Male =\", male/891)\n"
      ],
      "metadata": {
        "colab": {
          "base_uri": "https://localhost:8080/"
        },
        "id": "H6Z3ZYUZFUrf",
        "outputId": "57b3c449-0158-4b79-e08f-8bdf86724c06"
      },
      "execution_count": 100,
      "outputs": [
        {
          "output_type": "stream",
          "name": "stdout",
          "text": [
            "Sex: Female || Male\n",
            "Female = 0.35241301907968575\n",
            "Male = 0.6475869809203143\n"
          ]
        }
      ]
    },
    {
      "cell_type": "code",
      "source": [
        "print(\"ticket: \")\n",
        "print(data['Ticket'])\n",
        "\n"
      ],
      "metadata": {
        "colab": {
          "base_uri": "https://localhost:8080/"
        },
        "outputId": "172c06b6-d324-43a0-f4f9-8446813b00a5",
        "id": "xJUQlBv-LNrO"
      },
      "execution_count": 106,
      "outputs": [
        {
          "output_type": "stream",
          "name": "stdout",
          "text": [
            "ticket: \n",
            "0               A/5 21171\n",
            "1                PC 17599\n",
            "2        STON/O2. 3101282\n",
            "3                  113803\n",
            "4                  373450\n",
            "              ...        \n",
            "413             A.5. 3236\n",
            "414              PC 17758\n",
            "415    SOTON/O.Q. 3101262\n",
            "416                359309\n",
            "417                  2668\n",
            "Name: Ticket, Length: 1309, dtype: object\n"
          ]
        }
      ]
    },
    {
      "cell_type": "code",
      "source": [
        "print(\"Cabin: \")\n",
        "print(data['Cabin'])\n",
        "nan=0\n",
        "\n"
      ],
      "metadata": {
        "colab": {
          "base_uri": "https://localhost:8080/"
        },
        "outputId": "39e497c0-68aa-40be-e66c-5c08c65610c4",
        "id": "JydV8ZO8LhMk"
      },
      "execution_count": 115,
      "outputs": [
        {
          "output_type": "stream",
          "name": "stdout",
          "text": [
            "Cabin: \n",
            "0       NaN\n",
            "1       C85\n",
            "2       NaN\n",
            "3      C123\n",
            "4       NaN\n",
            "       ... \n",
            "413     NaN\n",
            "414    C105\n",
            "415     NaN\n",
            "416     NaN\n",
            "417     NaN\n",
            "Name: Cabin, Length: 1309, dtype: object\n"
          ]
        }
      ]
    },
    {
      "cell_type": "code",
      "source": [
        "\n",
        "#print(data['Sex'][30])\n",
        "\n",
        "S=0\n",
        "Q=0\n",
        "C=0\n",
        "for i in range(891):\n",
        "  if(((train_data['Embarked'][i]) == 'S')):\n",
        "    S += 1\n",
        "  if(((train_data['Embarked'][i]) == 'Q')):\n",
        "    Q +=1\n",
        "  if(((train_data['Embarked'][i]) == 'C')):\n",
        "   C += 1\n",
        "\n",
        "print(\"Embarked:\")\n",
        "print(\"S =\", S/891)\n",
        "print(\"Q =\", Q/891)\n",
        "print(\"C =\", C/891)"
      ],
      "metadata": {
        "colab": {
          "base_uri": "https://localhost:8080/"
        },
        "outputId": "e2b4a062-c271-480c-bba2-beb73c684a9e",
        "id": "Xdl5U925LO1X"
      },
      "execution_count": 116,
      "outputs": [
        {
          "output_type": "stream",
          "name": "stdout",
          "text": [
            "Embarked:\n",
            "S = 0.7227833894500562\n",
            "Q = 0.08641975308641975\n",
            "C = 0.18855218855218855\n"
          ]
        }
      ]
    },
    {
      "cell_type": "markdown",
      "source": [
        "### D) \n"
      ],
      "metadata": {
        "id": "kbgJLk0BNolf"
      }
    },
    {
      "cell_type": "markdown",
      "source": [
        "### E) Não sei de que forma seria possivel extrair correlação, porem com uma analise manual não encontrei correlação entre atributos"
      ],
      "metadata": {
        "id": "cNFs_n8V5Tbz"
      }
    }
  ]
}